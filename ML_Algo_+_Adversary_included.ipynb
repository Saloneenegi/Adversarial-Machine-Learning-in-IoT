{
  "nbformat": 4,
  "nbformat_minor": 0,
  "metadata": {
    "colab": {
      "name": "ML_Algo + Adversary included.ipynb",
      "provenance": []
    },
    "kernelspec": {
      "name": "python3",
      "display_name": "Python 3"
    },
    "accelerator": "GPU"
  },
  "cells": [
    {
      "cell_type": "code",
      "metadata": {
        "colab": {
          "base_uri": "https://localhost:8080/"
        },
        "id": "PWmGzhQ8xbD8",
        "outputId": "759294fd-db7d-44f8-871e-551bbf25d074"
      },
      "source": [
        "from sklearn.model_selection import GridSearchCV\n",
        "import pandas as pd\n",
        "import numpy as np\n",
        "from sklearn.model_selection import train_test_split\n",
        "from sklearn import metrics\n",
        "from keras.wrappers.scikit_learn import KerasClassifier\n",
        "from tensorflow.keras.models import Sequential\n",
        "from tensorflow.keras.layers import Dense, Activation\n",
        "from tensorflow.keras.callbacks import EarlyStopping\n",
        "from keras.utils.vis_utils import plot_model\n",
        "from sklearn.naive_bayes import GaussianNB\n",
        "from sklearn.ensemble import RandomForestClassifier\n",
        "from sklearn.neighbors import KNeighborsClassifier\n",
        "from sklearn.linear_model import LogisticRegression\n",
        "from sklearn.tree import DecisionTreeClassifier \n",
        "from sklearn.neural_network import MLPClassifier\n",
        "from sklearn.ensemble import GradientBoostingClassifier\n",
        "from sklearn.svm import SVC\n",
        "from sklearn import tree\n",
        "from sklearn.externals.six import StringIO  \n",
        "from sklearn.metrics import confusion_matrix\n",
        "from matplotlib import pyplot as pyplot\n",
        "from sklearn.metrics import roc_auc_score, roc_curve\n",
        "from sklearn.metrics import plot_confusion_matrix\n",
        "from warnings import simplefilter\n",
        "import time\n",
        "import matplotlib.pyplot as plt\n",
        "\n",
        "start = time.time()"
      ],
      "execution_count": null,
      "outputs": [
        {
          "output_type": "stream",
          "text": [
            "/usr/local/lib/python3.6/dist-packages/sklearn/externals/six.py:31: FutureWarning: The module is deprecated in version 0.21 and will be removed in version 0.23 since we've dropped support for Python 2.7. Please rely on the official version of six (https://pypi.org/project/six/).\n",
            "  \"(https://pypi.org/project/six/).\", FutureWarning)\n"
          ],
          "name": "stderr"
        }
      ]
    },
    {
      "cell_type": "code",
      "metadata": {
        "colab": {
          "base_uri": "https://localhost:8080/"
        },
        "id": "wf6Te3YVxzjr",
        "outputId": "9ba614aa-4b5d-4479-e520-21b10c6b4521"
      },
      "source": [
        "#one dataset to be splitted\n",
        "df = pd.read_csv(\"mqttdataset_reduced.csv\") \n",
        "seed = 7\n",
        "class_names = df.target.unique()\n",
        "df=df.astype('category')\n",
        "cat_columns = df.select_dtypes(['category']).columns\n",
        "df[cat_columns] = df[cat_columns].apply(lambda x: x.cat.codes)\n",
        "\n",
        "x_columns = df.columns.drop('target')\n",
        "x = df[x_columns].values\n",
        "y = df['target']\n",
        "\n",
        "print(\"Ready to generate train and test datasets\")\n",
        "x_train, x_test, y_train, y_test = train_test_split(x, y, test_size=0.3, random_state=seed)\n",
        "print(\"x_train, y_train, x_test, y_test\" + str(x_train.shape) + \"\" +str(y_train.shape) + \"\" +str(x_test.shape) + \"\" +str(y_test.shape))"
      ],
      "execution_count": null,
      "outputs": [
        {
          "output_type": "stream",
          "text": [
            "Ready to generate train and test datasets\n",
            "x_train, y_train, x_test, y_test(231648, 33)(231648,)(99278, 33)(99278,)\n"
          ],
          "name": "stdout"
        }
      ]
    },
    {
      "cell_type": "code",
      "metadata": {
        "colab": {
          "base_uri": "https://localhost:8080/"
        },
        "id": "lJPvtmc35WS3",
        "outputId": "d5be3acb-b001-4f28-901f-9b68a40cdb06"
      },
      "source": [
        "print(y_train.unique())"
      ],
      "execution_count": null,
      "outputs": [
        {
          "output_type": "stream",
          "text": [
            "[3 1 0 5 4 2]\n"
          ],
          "name": "stdout"
        }
      ]
    },
    {
      "cell_type": "code",
      "metadata": {
        "colab": {
          "base_uri": "https://localhost:8080/"
        },
        "id": "qBFzb_FL5j8X",
        "outputId": "f306b11e-6f70-4cee-ea6c-ce1290e448ba"
      },
      "source": [
        "type(y_train)"
      ],
      "execution_count": null,
      "outputs": [
        {
          "output_type": "execute_result",
          "data": {
            "text/plain": [
              "pandas.core.series.Series"
            ]
          },
          "metadata": {
            "tags": []
          },
          "execution_count": 4
        }
      ]
    },
    {
      "cell_type": "code",
      "metadata": {
        "id": "G4q-ol215_YE"
      },
      "source": [
        "y_train.replace(0,1,inplace=True)\n",
        "y_train.replace(2,1,inplace=True)\n",
        "y_train.replace(3,1,inplace=True)\n"
      ],
      "execution_count": null,
      "outputs": []
    },
    {
      "cell_type": "code",
      "metadata": {
        "colab": {
          "base_uri": "https://localhost:8080/"
        },
        "id": "ITsd2ITUx2E6",
        "outputId": "8daeaa1e-c825-474a-df76-11f1b0973b23"
      },
      "source": [
        "print(\"Ready to generate train and test datasets\")\n",
        "\n",
        "#Neural network\n",
        "print(\"Starting Random forest\")\n",
        "model = Sequential()\n",
        "model.add(Dense(50, input_dim=x_train.shape[1], kernel_initializer='normal', activation='relu'))\n",
        "model.add(Dense(30, input_dim=x_train.shape[1], kernel_initializer='normal', activation='relu'))\n",
        "model.add(Dense(20, kernel_initializer='normal'))\n",
        "model.add(Dense(6,activation='softmax'))\n",
        "model.compile(loss='sparse_categorical_crossentropy', optimizer='adam', metrics=['accuracy'])\n",
        "monitor = EarlyStopping(monitor='val_loss', min_delta=1e-3, patience=5, verbose=1, mode='auto')\n",
        "history = model.fit(x_train,y_train,validation_data=(x_test,y_test),callbacks=[monitor],verbose=2,epochs=200,batch_size=1000) \n",
        "end = time.time()\n",
        "diff=end-start\n",
        "print(\"Training time: \" + str(diff))\n",
        "starttest = time.time()\n",
        "y_pred_nn = model.predict(x_test)\n",
        "y_pred_nn = np.argmax(y_pred_nn,axis=1)\n",
        "endtest =time.time()\n",
        "difftest = endtest-starttest\n",
        "print(\"Test time: \" + str(difftest))\n",
        "\n",
        "print(model.summary())"
      ],
      "execution_count": null,
      "outputs": [
        {
          "output_type": "stream",
          "text": [
            "Ready to generate train and test datasets\n",
            "Starting Random forest\n",
            "Epoch 1/200\n",
            "232/232 - 1s - loss: 1.1141 - accuracy: 0.7555 - val_loss: 0.5713 - val_accuracy: 0.7856\n",
            "Epoch 2/200\n",
            "232/232 - 1s - loss: 0.4937 - accuracy: 0.8158 - val_loss: 0.4461 - val_accuracy: 0.8511\n",
            "Epoch 3/200\n",
            "232/232 - 1s - loss: 0.4027 - accuracy: 0.8678 - val_loss: 0.3704 - val_accuracy: 0.8808\n",
            "Epoch 4/200\n",
            "232/232 - 1s - loss: 0.3436 - accuracy: 0.8897 - val_loss: 0.3035 - val_accuracy: 0.8991\n",
            "Epoch 5/200\n",
            "232/232 - 1s - loss: 0.2923 - accuracy: 0.9038 - val_loss: 0.2850 - val_accuracy: 0.9076\n",
            "Epoch 6/200\n",
            "232/232 - 1s - loss: 0.2778 - accuracy: 0.9039 - val_loss: 0.2547 - val_accuracy: 0.9037\n",
            "Epoch 7/200\n",
            "232/232 - 1s - loss: 0.2485 - accuracy: 0.9113 - val_loss: 0.2407 - val_accuracy: 0.9165\n",
            "Epoch 8/200\n",
            "232/232 - 1s - loss: 0.2372 - accuracy: 0.9151 - val_loss: 0.2251 - val_accuracy: 0.9203\n",
            "Epoch 9/200\n",
            "232/232 - 1s - loss: 0.2276 - accuracy: 0.9187 - val_loss: 0.2176 - val_accuracy: 0.9208\n",
            "Epoch 10/200\n",
            "232/232 - 1s - loss: 0.2146 - accuracy: 0.9226 - val_loss: 0.2301 - val_accuracy: 0.9213\n",
            "Epoch 11/200\n",
            "232/232 - 1s - loss: 0.2368 - accuracy: 0.9179 - val_loss: 0.2539 - val_accuracy: 0.9134\n",
            "Epoch 12/200\n",
            "232/232 - 1s - loss: 0.2120 - accuracy: 0.9237 - val_loss: 0.1985 - val_accuracy: 0.9270\n",
            "Epoch 13/200\n",
            "232/232 - 1s - loss: 0.2089 - accuracy: 0.9245 - val_loss: 0.1947 - val_accuracy: 0.9277\n",
            "Epoch 14/200\n",
            "232/232 - 1s - loss: 0.2046 - accuracy: 0.9247 - val_loss: 0.2073 - val_accuracy: 0.9254\n",
            "Epoch 15/200\n",
            "232/232 - 1s - loss: 0.2039 - accuracy: 0.9248 - val_loss: 0.1920 - val_accuracy: 0.9283\n",
            "Epoch 16/200\n",
            "232/232 - 1s - loss: 0.1978 - accuracy: 0.9256 - val_loss: 0.1925 - val_accuracy: 0.9258\n",
            "Epoch 17/200\n",
            "232/232 - 1s - loss: 0.2033 - accuracy: 0.9250 - val_loss: 0.1931 - val_accuracy: 0.9265\n",
            "Epoch 18/200\n",
            "232/232 - 1s - loss: 0.1920 - accuracy: 0.9281 - val_loss: 0.1877 - val_accuracy: 0.9308\n",
            "Epoch 19/200\n",
            "232/232 - 1s - loss: 0.1919 - accuracy: 0.9286 - val_loss: 0.1867 - val_accuracy: 0.9329\n",
            "Epoch 20/200\n",
            "232/232 - 1s - loss: 0.1911 - accuracy: 0.9298 - val_loss: 0.2111 - val_accuracy: 0.9273\n",
            "Epoch 21/200\n",
            "232/232 - 1s - loss: 0.2061 - accuracy: 0.9264 - val_loss: 0.1905 - val_accuracy: 0.9347\n",
            "Epoch 22/200\n",
            "232/232 - 1s - loss: 0.1917 - accuracy: 0.9300 - val_loss: 0.1861 - val_accuracy: 0.9323\n",
            "Epoch 23/200\n",
            "232/232 - 1s - loss: 0.1920 - accuracy: 0.9292 - val_loss: 0.1867 - val_accuracy: 0.9297\n",
            "Epoch 24/200\n",
            "232/232 - 1s - loss: 0.1865 - accuracy: 0.9305 - val_loss: 0.1828 - val_accuracy: 0.9337\n",
            "Epoch 25/200\n",
            "232/232 - 1s - loss: 0.1886 - accuracy: 0.9305 - val_loss: 0.1821 - val_accuracy: 0.9314\n",
            "Epoch 26/200\n",
            "232/232 - 1s - loss: 0.1900 - accuracy: 0.9306 - val_loss: 0.1833 - val_accuracy: 0.9302\n",
            "Epoch 27/200\n",
            "232/232 - 1s - loss: 0.1894 - accuracy: 0.9306 - val_loss: 0.1950 - val_accuracy: 0.9307\n",
            "Epoch 28/200\n",
            "232/232 - 1s - loss: 0.1868 - accuracy: 0.9311 - val_loss: 0.1803 - val_accuracy: 0.9321\n",
            "Epoch 29/200\n",
            "232/232 - 1s - loss: 0.1857 - accuracy: 0.9316 - val_loss: 0.1823 - val_accuracy: 0.9355\n",
            "Epoch 30/200\n",
            "232/232 - 1s - loss: 0.1814 - accuracy: 0.9329 - val_loss: 0.1787 - val_accuracy: 0.9332\n",
            "Epoch 31/200\n",
            "232/232 - 1s - loss: 0.1903 - accuracy: 0.9305 - val_loss: 0.1913 - val_accuracy: 0.9298\n",
            "Epoch 32/200\n",
            "232/232 - 1s - loss: 0.1831 - accuracy: 0.9330 - val_loss: 0.1821 - val_accuracy: 0.9332\n",
            "Epoch 33/200\n",
            "232/232 - 1s - loss: 0.1809 - accuracy: 0.9334 - val_loss: 0.1773 - val_accuracy: 0.9351\n",
            "Epoch 34/200\n",
            "232/232 - 1s - loss: 0.1787 - accuracy: 0.9336 - val_loss: 0.1833 - val_accuracy: 0.9311\n",
            "Epoch 35/200\n",
            "232/232 - 1s - loss: 0.1812 - accuracy: 0.9330 - val_loss: 0.1798 - val_accuracy: 0.9311\n",
            "Epoch 36/200\n",
            "232/232 - 1s - loss: 0.1833 - accuracy: 0.9328 - val_loss: 0.1762 - val_accuracy: 0.9347\n",
            "Epoch 37/200\n",
            "232/232 - 1s - loss: 0.1769 - accuracy: 0.9344 - val_loss: 0.1756 - val_accuracy: 0.9317\n",
            "Epoch 38/200\n",
            "232/232 - 1s - loss: 0.1763 - accuracy: 0.9342 - val_loss: 0.1745 - val_accuracy: 0.9369\n",
            "Epoch 39/200\n",
            "232/232 - 1s - loss: 0.1782 - accuracy: 0.9343 - val_loss: 0.1868 - val_accuracy: 0.9307\n",
            "Epoch 40/200\n",
            "232/232 - 1s - loss: 0.1763 - accuracy: 0.9348 - val_loss: 0.1764 - val_accuracy: 0.9369\n",
            "Epoch 41/200\n",
            "232/232 - 1s - loss: 0.1758 - accuracy: 0.9350 - val_loss: 0.1737 - val_accuracy: 0.9355\n",
            "Epoch 42/200\n",
            "232/232 - 1s - loss: 0.1762 - accuracy: 0.9353 - val_loss: 0.1863 - val_accuracy: 0.9337\n",
            "Epoch 43/200\n",
            "232/232 - 1s - loss: 0.1912 - accuracy: 0.9329 - val_loss: 0.1796 - val_accuracy: 0.9366\n",
            "Epoch 00043: early stopping\n",
            "Training time: 119.18162822723389\n",
            "Test time: 2.0884039402008057\n",
            "Model: \"sequential\"\n",
            "_________________________________________________________________\n",
            "Layer (type)                 Output Shape              Param #   \n",
            "=================================================================\n",
            "dense (Dense)                (None, 50)                1700      \n",
            "_________________________________________________________________\n",
            "dense_1 (Dense)              (None, 30)                1530      \n",
            "_________________________________________________________________\n",
            "dense_2 (Dense)              (None, 20)                620       \n",
            "_________________________________________________________________\n",
            "dense_3 (Dense)              (None, 6)                 126       \n",
            "=================================================================\n",
            "Total params: 3,976\n",
            "Trainable params: 3,976\n",
            "Non-trainable params: 0\n",
            "_________________________________________________________________\n",
            "None\n"
          ],
          "name": "stdout"
        }
      ]
    },
    {
      "cell_type": "code",
      "metadata": {
        "colab": {
          "base_uri": "https://localhost:8080/",
          "height": 295
        },
        "id": "xgkrpDa31fIx",
        "outputId": "0c005e79-83c3-4330-8c15-d300576e3c10"
      },
      "source": [
        "loss_train = history.history['loss']\n",
        "loss_val = history.history['val_loss']\n",
        "epochs = range(1,25)\n",
        "plt.plot(epochs, loss_train, 'g', label='Training loss')\n",
        "plt.plot(epochs, loss_val, 'b', label='validation loss')\n",
        "plt.title('Training and Validation loss')\n",
        "plt.xlabel('Epochs')\n",
        "plt.ylabel('Loss')\n",
        "plt.legend()\n",
        "plt.show()"
      ],
      "execution_count": null,
      "outputs": [
        {
          "output_type": "display_data",
          "data": {
            "image/png": "[encoded data removed]",
            "text/plain": [
              "<Figure size 432x288 with 1 Axes>"
            ]
          },
          "metadata": {
            "tags": [],
            "needs_background": "light"
          }
        }
      ]
    },
    {
      "cell_type": "code",
      "metadata": {
        "colab": {
          "base_uri": "https://localhost:8080/"
        },
        "id": "VYMhTXRjy6f-",
        "outputId": "f9043b2c-8508-486a-c7b6-e78d6dd00570"
      },
      "source": [
        "#RandomForest\n",
        "print(\"Starting Random forest\")\n",
        "classifier = RandomForestClassifier(verbose=2,random_state=seed)\n",
        "classifier.fit(x_train, y_train)\n",
        "end = time.time()\n",
        "diff=end-start\n",
        "print(\"Training time: \" + str(diff))\n",
        "starttest = time.time()\n",
        "y_pred_random = classifier.predict(x_test)\n",
        "endtest =time.time()\n",
        "difftest = endtest-starttest\n",
        "print(\"Test time: \" + str(difftest))"
      ],
      "execution_count": null,
      "outputs": [
        {
          "output_type": "stream",
          "text": [
            "Starting Random forest\n",
            "building tree 1 of 100\n",
            "building tree 2 of 100\n"
          ],
          "name": "stdout"
        },
        {
          "output_type": "stream",
          "text": [
            "[Parallel(n_jobs=1)]: Using backend SequentialBackend with 1 concurrent workers.\n",
            "[Parallel(n_jobs=1)]: Done   1 out of   1 | elapsed:    0.1s remaining:    0.0s\n"
          ],
          "name": "stderr"
        },
        {
          "output_type": "stream",
          "text": [
            "building tree 3 of 100\n",
            "building tree 4 of 100\n",
            "building tree 5 of 100\n",
            "building tree 6 of 100\n",
            "building tree 7 of 100\n",
            "building tree 8 of 100\n",
            "building tree 9 of 100\n",
            "building tree 10 of 100\n",
            "building tree 11 of 100\n",
            "building tree 12 of 100\n",
            "building tree 13 of 100\n",
            "building tree 14 of 100\n",
            "building tree 15 of 100\n",
            "building tree 16 of 100\n",
            "building tree 17 of 100\n",
            "building tree 18 of 100\n",
            "building tree 19 of 100\n",
            "building tree 20 of 100\n",
            "building tree 21 of 100\n",
            "building tree 22 of 100\n",
            "building tree 23 of 100\n",
            "building tree 24 of 100\n",
            "building tree 25 of 100\n",
            "building tree 26 of 100\n",
            "building tree 27 of 100\n",
            "building tree 28 of 100\n",
            "building tree 29 of 100\n",
            "building tree 30 of 100\n",
            "building tree 31 of 100\n",
            "building tree 32 of 100\n",
            "building tree 33 of 100\n",
            "building tree 34 of 100\n",
            "building tree 35 of 100\n",
            "building tree 36 of 100\n",
            "building tree 37 of 100\n",
            "building tree 38 of 100\n",
            "building tree 39 of 100\n",
            "building tree 40 of 100\n",
            "building tree 41 of 100\n",
            "building tree 42 of 100\n",
            "building tree 43 of 100\n",
            "building tree 44 of 100\n",
            "building tree 45 of 100\n",
            "building tree 46 of 100\n",
            "building tree 47 of 100\n",
            "building tree 48 of 100\n",
            "building tree 49 of 100\n",
            "building tree 50 of 100\n",
            "building tree 51 of 100\n",
            "building tree 52 of 100\n",
            "building tree 53 of 100\n",
            "building tree 54 of 100\n",
            "building tree 55 of 100\n",
            "building tree 56 of 100\n",
            "building tree 57 of 100\n",
            "building tree 58 of 100\n",
            "building tree 59 of 100\n",
            "building tree 60 of 100\n",
            "building tree 61 of 100\n",
            "building tree 62 of 100\n",
            "building tree 63 of 100\n",
            "building tree 64 of 100\n",
            "building tree 65 of 100\n",
            "building tree 66 of 100\n",
            "building tree 67 of 100\n",
            "building tree 68 of 100\n",
            "building tree 69 of 100\n",
            "building tree 70 of 100\n",
            "building tree 71 of 100\n",
            "building tree 72 of 100\n",
            "building tree 73 of 100\n",
            "building tree 74 of 100\n",
            "building tree 75 of 100\n",
            "building tree 76 of 100\n",
            "building tree 77 of 100\n",
            "building tree 78 of 100\n",
            "building tree 79 of 100\n",
            "building tree 80 of 100\n",
            "building tree 81 of 100\n",
            "building tree 82 of 100\n",
            "building tree 83 of 100\n",
            "building tree 84 of 100\n",
            "building tree 85 of 100\n",
            "building tree 86 of 100\n",
            "building tree 87 of 100\n",
            "building tree 88 of 100\n",
            "building tree 89 of 100\n",
            "building tree 90 of 100\n",
            "building tree 91 of 100\n",
            "building tree 92 of 100\n",
            "building tree 93 of 100\n",
            "building tree 94 of 100\n",
            "building tree 95 of 100\n",
            "building tree 96 of 100\n",
            "building tree 97 of 100\n",
            "building tree 98 of 100\n",
            "building tree 99 of 100\n",
            "building tree 100 of 100\n",
            "Training time: 50.43924355506897\n"
          ],
          "name": "stdout"
        },
        {
          "output_type": "stream",
          "text": [
            "[Parallel(n_jobs=1)]: Done 100 out of 100 | elapsed:   10.7s finished\n",
            "[Parallel(n_jobs=1)]: Using backend SequentialBackend with 1 concurrent workers.\n",
            "[Parallel(n_jobs=1)]: Done   1 out of   1 | elapsed:    0.0s remaining:    0.0s\n"
          ],
          "name": "stderr"
        },
        {
          "output_type": "stream",
          "text": [
            "Test time: 0.8783087730407715\n"
          ],
          "name": "stdout"
        },
        {
          "output_type": "stream",
          "text": [
            "[Parallel(n_jobs=1)]: Done 100 out of 100 | elapsed:    0.9s finished\n"
          ],
          "name": "stderr"
        }
      ]
    },
    {
      "cell_type": "code",
      "metadata": {
        "colab": {
          "base_uri": "https://localhost:8080/"
        },
        "id": "SBX4cPKmy8_M",
        "outputId": "38e98edf-5661-4a2b-810d-119683f5d3fe"
      },
      "source": [
        "#Create Naive Bayes Classifier\n",
        "print(\"Starting Naive Bayes\")\n",
        "gnb = GaussianNB()\n",
        "gnb.fit(x_train, y_train)\n",
        "end = time.time()\n",
        "diff=end-start\n",
        "print(\"Training time: \" + str(diff))\n",
        "starttest = time.time()\n",
        "y_pred_nb = gnb.predict(x_test)\n",
        "endtest =time.time()\n",
        "difftest = endtest-starttest\n",
        "print(\"Test time: \" + str(difftest))"
      ],
      "execution_count": null,
      "outputs": [
        {
          "output_type": "stream",
          "text": [
            "Starting Naive Bayes\n",
            "Training time: 57.330183267593384\n",
            "Test time: 0.1044611930847168\n"
          ],
          "name": "stdout"
        }
      ]
    },
    {
      "cell_type": "code",
      "metadata": {
        "colab": {
          "base_uri": "https://localhost:8080/"
        },
        "id": "m5IYpsJny_ip",
        "outputId": "631a62de-fbdb-4dba-9f7c-347f736fedea"
      },
      "source": [
        "#Decision tree\n",
        "print(\"Starting Decision tree\")\n",
        "clf = DecisionTreeClassifier()\n",
        "clf = clf.fit(x_train,y_train)\n",
        "end = time.time()\n",
        "diff=end-start\n",
        "print(\"Training time: \" + str(diff))\n",
        "starttest = time.time()\n",
        "y_pred_dt = clf.predict(x_test)\n",
        "y_pred_dt_roc = clf.predict_proba(x_test)\n",
        "endtest =time.time()\n",
        "difftest = endtest-starttest\n",
        "print(\"Test time: \" + str(difftest))"
      ],
      "execution_count": null,
      "outputs": [
        {
          "output_type": "stream",
          "text": [
            "Starting Decision tree\n",
            "Training time: 62.108720541000366\n",
            "Test time: 0.025115489959716797\n"
          ],
          "name": "stdout"
        }
      ]
    },
    {
      "cell_type": "code",
      "metadata": {
        "colab": {
          "base_uri": "https://localhost:8080/"
        },
        "id": "VAp1LC1NzBl4",
        "outputId": "111ff44f-45a6-446d-e464-c458670d78b0"
      },
      "source": [
        "#Multi layer perceptron\n",
        "print(\"Starting Multi layer perceptron\")\n",
        "model = MLPClassifier( max_iter=130, batch_size=1000, alpha=1e-4, activation = 'relu',solver='adam', verbose=10, tol=1e-4, random_state=seed)\n",
        "model.fit(x_train, y_train)\n",
        "end = time.time()\n",
        "diff=end-start\n",
        "print(\"Training time: \" + str(diff))\n",
        "starttest = time.time()\n",
        "y_pred_mlp = model.predict(x_test)\n",
        "endtest =time.time()\n",
        "difftest = endtest-starttest\n",
        "print(\"Test time: \" + str(difftest))"
      ],
      "execution_count": null,
      "outputs": [
        {
          "output_type": "stream",
          "text": [
            "Starting Multi layer perceptron\n",
            "Iteration 1, loss = inf\n",
            "Iteration 2, loss = inf\n",
            "Iteration 3, loss = 0.94676840\n",
            "Iteration 4, loss = 0.73447833\n",
            "Iteration 5, loss = 0.67019686\n",
            "Iteration 6, loss = 0.69309756\n",
            "Iteration 7, loss = inf\n",
            "Iteration 8, loss = 0.72666458\n",
            "Iteration 9, loss = inf\n",
            "Iteration 10, loss = inf\n",
            "Iteration 11, loss = inf\n",
            "Iteration 12, loss = inf\n",
            "Iteration 13, loss = 0.48484243\n",
            "Iteration 14, loss = 0.40782022\n",
            "Iteration 15, loss = inf\n",
            "Iteration 16, loss = inf\n",
            "Iteration 17, loss = inf\n",
            "Iteration 18, loss = inf\n",
            "Iteration 19, loss = inf\n",
            "Iteration 20, loss = 0.40954129\n",
            "Iteration 21, loss = 0.44601944\n",
            "Iteration 22, loss = inf\n",
            "Iteration 23, loss = inf\n",
            "Iteration 24, loss = inf\n",
            "Iteration 25, loss = inf\n",
            "Training loss did not improve more than tol=0.000100 for 10 consecutive epochs. Stopping.\n",
            "Training time: 89.05095076560974\n",
            "Test time: 0.15749025344848633\n"
          ],
          "name": "stdout"
        }
      ]
    },
    {
      "cell_type": "code",
      "metadata": {
        "colab": {
          "base_uri": "https://localhost:8080/"
        },
        "id": "ojZObwQUzFAn",
        "outputId": "f92064c1-f02a-4d54-f5c4-682a8f2bb33f"
      },
      "source": [
        "#Gradient boost\n",
        "print(\"Starting Gradient boost\")\n",
        "model = GradientBoostingClassifier(n_estimators=20, random_state=seed,verbose=2)\n",
        "model.fit(x_train, y_train)\n",
        "end = time.time()\n",
        "diff=end-start\n",
        "print(\"Training time: \" + str(diff))\n",
        "starttest = time.time()\n",
        "y_pred_gradient = model.predict(x_test)\n",
        "endtest =time.time()\n",
        "difftest = endtest-starttest\n",
        "print(\"Test time: \" + str(difftest))"
      ],
      "execution_count": null,
      "outputs": [
        {
          "output_type": "stream",
          "text": [
            "Starting Gradient boost\n",
            "      Iter       Train Loss   Remaining Time \n",
            "         1      194090.2842           34.76s\n",
            "         2      171853.1125           33.61s\n",
            "         3      150572.2483           31.62s\n",
            "         4      135161.8381           29.67s\n",
            "         5      123227.4341           27.87s\n",
            "         6      113346.1088           26.19s\n",
            "         7      106002.8011           24.38s\n",
            "         8       98887.7899           22.59s\n",
            "         9       92860.4962           20.71s\n",
            "        10       87709.3871           18.88s\n",
            "        11       82472.4487           17.04s\n",
            "        12       78754.0483           15.21s\n",
            "        13       75172.1397           13.34s\n",
            "        14       71636.7287           11.45s\n",
            "        15       69032.9594            9.56s\n",
            "        16       66685.4773            7.67s\n",
            "        17       64472.7939            5.76s\n",
            "        18       62357.8948            3.84s\n",
            "        19       60632.7941            1.92s\n",
            "        20       59178.7981            0.00s\n",
            "Training time: 132.4320352077484\n",
            "Test time: 0.27238917350769043\n"
          ],
          "name": "stdout"
        }
      ]
    },
    {
      "cell_type": "code",
      "metadata": {
        "colab": {
          "base_uri": "https://localhost:8080/"
        },
        "id": "A5hxXnizzPg7",
        "outputId": "b7f985e1-c9c2-4d9f-9e74-db9d0447252d"
      },
      "source": [
        "print(\"Decision Tree, accuracy: \" + str(metrics.accuracy_score(y_test, y_pred_dt)) + \" F1 score:\" + str(metrics.f1_score(y_test, y_pred_dt,average='weighted')))\n",
        "matrixdt = confusion_matrix(y_test,y_pred_dt)\n",
        "print(matrixdt)"
      ],
      "execution_count": null,
      "outputs": [
        {
          "output_type": "stream",
          "text": [
            "Decision Tree, accuracy: 0.9389492133201717 F1 score:0.937661419856719\n",
            "[[ 3645   426     1     9   295     0]\n",
            " [  282 35802     0  2859    51     0]\n",
            " [    1    22    95    72     2     0]\n",
            " [    0   640     0 49009     0     0]\n",
            " [ 1065   309     0    27  1879     0]\n",
            " [    0     0     0     0     0  2787]]\n"
          ],
          "name": "stdout"
        }
      ]
    },
    {
      "cell_type": "code",
      "metadata": {
        "colab": {
          "base_uri": "https://localhost:8080/"
        },
        "id": "7iKypnZtzQSS",
        "outputId": "50895896-9c17-41ae-d195-9cbbf4296a35"
      },
      "source": [
        "print(\"Naive Bayes, accuracy: \" + str(metrics.accuracy_score(y_test, y_pred_nb)) + \" F1 score:\" + str(metrics.f1_score(y_test, y_pred_nb,average='weighted')))\n",
        "matrixnv = confusion_matrix(y_test,y_pred_nb)\n",
        "print(matrixnv)"
      ],
      "execution_count": null,
      "outputs": [
        {
          "output_type": "stream",
          "text": [
            "Naive Bayes, accuracy: 0.6341384798243317 F1 score:0.7303523875083585\n",
            "[[  458     1     1   490    11  3415]\n",
            " [    0 28027     1    11     3 10952]\n",
            " [    0     0    95     3     0    94]\n",
            " [    0     0   138 31128   185 18198]\n",
            " [    0    89     8   335   465  2383]\n",
            " [    0     0     0     4     0  2783]]\n"
          ],
          "name": "stdout"
        }
      ]
    },
    {
      "cell_type": "code",
      "metadata": {
        "colab": {
          "base_uri": "https://localhost:8080/"
        },
        "id": "z7NgfyyfzTbn",
        "outputId": "f0aa5785-751d-4c48-9767-cbe1e6f585aa"
      },
      "source": [
        "print(\"Neural network, accuracy: \" + str(metrics.accuracy_score(y_test, y_pred_nn)) + \" F1 score:\" + str(metrics.f1_score(y_test, y_pred_nn,average='weighted')))\n",
        "matrixnn = confusion_matrix(y_test,y_pred_nn)\n",
        "print(matrixnn)"
      ],
      "execution_count": null,
      "outputs": [
        {
          "output_type": "stream",
          "text": [
            "Neural network, accuracy: 0.4336610326557747 F1 score:0.27539700634488323\n",
            "[[    0  4280     0     0    91     5]\n",
            " [    0 38844     0     0   149     1]\n",
            " [    0   191     0     0     0     1]\n",
            " [    0 49646     0     0     0     3]\n",
            " [    0  1770     0     0  1508     2]\n",
            " [    0    72     0     0    14  2701]]\n"
          ],
          "name": "stdout"
        }
      ]
    },
    {
      "cell_type": "code",
      "metadata": {
        "colab": {
          "base_uri": "https://localhost:8080/"
        },
        "id": "H0aQEnN3zVmx",
        "outputId": "b1bc2d90-d446-430e-dd66-cf4558306de5"
      },
      "source": [
        "print(\"MultiLayerPerceptron, accuracy: \" + str(metrics.accuracy_score(y_test, y_pred_mlp)) + \" F1 score:\" + str(metrics.f1_score(y_test, y_pred_mlp,average='weighted')))\n",
        "matrixml = confusion_matrix(y_test,y_pred_mlp)\n",
        "print(matrixml)"
      ],
      "execution_count": null,
      "outputs": [
        {
          "output_type": "stream",
          "text": [
            "MultiLayerPerceptron, accuracy: 0.9178569270130341 F1 score:0.9152290439913378\n",
            "[[ 3201   435     0   266    21   453]\n",
            " [  326 35026     0  3444    52   146]\n",
            " [    4     2    86    91     7     2]\n",
            " [   47   431     0 48723   445     3]\n",
            " [ 1005   406     1   184  1370   314]\n",
            " [   59     1     0     0    10  2717]]\n"
          ],
          "name": "stdout"
        }
      ]
    },
    {
      "cell_type": "code",
      "metadata": {
        "colab": {
          "base_uri": "https://localhost:8080/"
        },
        "id": "F5TFK5r0zYIj",
        "outputId": "bba50f2e-764e-4091-eeab-2f1544a9f9ed"
      },
      "source": [
        "print(\"Random Forest, accuracy: \" + str(metrics.accuracy_score(y_test, y_pred_random)) + \" F1 score:\" + str(metrics.f1_score(y_test, y_pred_random,average='weighted')))\n",
        "matrixrf = confusion_matrix(y_test,y_pred_random)\n",
        "print(matrixrf)"
      ],
      "execution_count": null,
      "outputs": [
        {
          "output_type": "stream",
          "text": [
            "Random Forest, accuracy: 0.9388484860694212 F1 score:0.9376255158828146\n",
            "[[ 3591   430     1     9   345     0]\n",
            " [  273 35803     0  2859    59     0]\n",
            " [    1    22    95    72     2     0]\n",
            " [    0   640     0 49009     0     0]\n",
            " [ 1021   310     0    27  1922     0]\n",
            " [    0     0     0     0     0  2787]]\n"
          ],
          "name": "stdout"
        }
      ]
    },
    {
      "cell_type": "code",
      "metadata": {
        "colab": {
          "base_uri": "https://localhost:8080/"
        },
        "id": "xr9ZN7BdzahP",
        "outputId": "5f4e7a86-ef2f-4f2e-b07f-c10c19237eab"
      },
      "source": [
        "print(\"GradienBoost, accuracy: \" + str(metrics.accuracy_score(y_test, y_pred_gradient)) + \" F1 score:\" + str(metrics.f1_score(y_test, y_pred_gradient,average='weighted')))\n",
        "matrixgb = confusion_matrix(y_test,y_pred_gradient)\n",
        "print(matrixgb)"
      ],
      "execution_count": null,
      "outputs": [
        {
          "output_type": "stream",
          "text": [
            "GradienBoost, accuracy: 0.9290980881967807 F1 score:0.926431879218929\n",
            "[[ 3631   466     2   272     5     0]\n",
            " [  423 35047     0  3516     8     0]\n",
            " [    4     1    92    94     1     0]\n",
            " [   47   346     0 49256     0     0]\n",
            " [ 1278   286     0   290  1426     0]\n",
            " [    0     0     0     0     0  2787]]\n"
          ],
          "name": "stdout"
        }
      ]
    }
  ]
}