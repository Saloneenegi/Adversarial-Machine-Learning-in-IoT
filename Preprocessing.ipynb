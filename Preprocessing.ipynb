{
  "nbformat": 4,
  "nbformat_minor": 0,
  "metadata": {
    "colab": {
      "name": "Preprocessing.ipynb",
      "provenance": []
    },
    "kernelspec": {
      "name": "python3",
      "display_name": "Python 3"
    },
    "accelerator": "TPU"
  },
  "cells": [
    {
      "cell_type": "code",
      "metadata": {
        "id": "0zVyq2ZBbhmU"
      },
      "source": [
        "#module to preprocess the network dataset\n",
        "\n",
        "import pandas as pd\n",
        "import numpy as np\n",
        "from sklearn.utils import shuffle\n",
        "from sklearn.model_selection import train_test_split"
      ],
      "execution_count": null,
      "outputs": []
    },
    {
      "cell_type": "code",
      "metadata": {
        "id": "SvqhqyyMwEjq"
      },
      "source": [
        "\n",
        "names = [\"frame.time_delta\",\"frame.time_delta_displayed\",\"frame.time_epoch\",\"frame.time_invalid\",\n",
        "\"frame.time_relative\",\"eth.src\",\"eth.dst\",\"ip.src\",\"ip.dst\",\"tcp.srcport\",\"tcp.dstport\",\"tcp.flags\",\n",
        "\"frame.cap_len\",\"frame.len\",\"frame.number\",\"tcp.stream\",\"tcp.analysis.initial_rtt\",\"tcp.time_delta\",\"tcp.len\",\n",
        "\"tcp.window_size_value\",\"tcp.checksum\",\"mqtt.clientid\",\"mqtt.clientid_len\",\"mqtt.conack.flags\",\"mqtt.conack.flags.reserved\",\n",
        "\"mqtt.conack.flags.sp\",\"mqtt.conack.val\",\"mqtt.conflag.cleansess\",\"mqtt.conflag.passwd\",\"mqtt.conflag.qos\",\"mqtt.conflag.reserved\",\"mqtt.conflag.retain\",\n",
        "\"mqtt.conflag.uname\",\"mqtt.conflag.willflag\", \"mqtt.conflags\",\"mqtt.dupflag\",\"mqtt.hdrflags\",\"mqtt.kalive\",\"mqtt.len\",\"mqtt.msg\",\"mqtt.msgid\",\"mqtt.msgtype\",\n",
        "\"mqtt.passwd\",\"mqtt.passwd_len\",\"mqtt.proto_len\",\"mqtt.protoname\",\"mqtt.qos\",\"mqtt.retain\",\"mqtt.sub.qos\",\"mqtt.suback.qos\",\"mqtt.topic\",\"mqtt.topic_len\",\"mqtt.username\",\n",
        "\"mqtt.username_len\",\"mqtt.ver\",\"mqtt.willmsg\",\"mqtt.willmsg_len\",\"mqtt.willtopic\",\"mqtt.willtopic_len\",\"ip.proto\"]\n",
        "\n",
        "seed=7\n"
      ],
      "execution_count": null,
      "outputs": []
    },
    {
      "cell_type": "code",
      "metadata": {
        "id": "--2UMX8NwJWW"
      },
      "source": [
        "def cleandata(df):\n",
        "    del df['frame.time_invalid']\n",
        "    del df['frame.time_epoch']\n",
        "    del df['frame.time_relative']\n",
        "    del df['frame.number']\n",
        "    del df['frame.time_delta']\n",
        "    del df['frame.time_delta_displayed']\n",
        "    del df['frame.cap_len']\n",
        "    del df['frame.len']\n",
        "    del df['tcp.window_size_value']\n",
        "    del df['eth.src']\n",
        "    del df['eth.dst']\n",
        "    del df['ip.src']\n",
        "    del df['ip.dst']\n",
        "    del df['ip.proto']\n",
        "    del df['tcp.srcport']\n",
        "    del df['tcp.dstport']\n",
        "    del df['tcp.analysis.initial_rtt']\n",
        "    del df['tcp.stream']\n",
        "    del df['mqtt.topic']\n",
        "    del df['tcp.checksum'] #da rimuovere paper\n",
        "    del df['mqtt.topic_len'] #da rimuovere paper\n",
        "    del df['mqtt.passwd_len']\n",
        "    del df['mqtt.passwd']\n",
        "    del df['mqtt.clientid']\n",
        "    del df['mqtt.clientid_len']\n",
        "    del df['mqtt.username']\n",
        "    del df['mqtt.username_len']\n",
        "    return df\n"
      ],
      "execution_count": null,
      "outputs": []
    },
    {
      "cell_type": "code",
      "metadata": {
        "id": "qUBhMxJnw_Yd"
      },
      "source": [
        "print(\"Starting process dataset\")\n",
        "\n",
        "#legitimate\n",
        "df_legitimate = pd.read_csv('legitimate_1w.csv')\n",
        "print(\"dataset uploaded\")\n",
        "df_legitimate.fillna(0, inplace=True)\n",
        "df_legitimate['target'] = 'legitimate'\n",
        "cleandata(df_legitimate)\n",
        "df_legitimate = df_legitimate.head(10000000)\n",
        "trainleg = df_legitimate.head(7000000)\n",
        "testleg = df_legitimate.tail(3000000)\n",
        "'''\n",
        "df_legitimate_reduced = df_legitimate.loc[71::72].sample(frac=1,replace=True).reset_index(drop=True).head(165463)\n",
        "trainleg = df_legitimate_reduced.head(115824)\n",
        "testleg = df_legitimate_reduced.tail(49639)\n",
        "'''\n",
        "print(\"Shape of Legitimate: \" + str(df_legitimate.shape))"
      ],
      "execution_count": null,
      "outputs": []
    },
    {
      "cell_type": "code",
      "metadata": {
        "colab": {
          "base_uri": "https://localhost:8080/"
        },
        "id": "tH_id8alwMls",
        "outputId": "76fd564c-0300-4751-9ca2-08b23bc8509f"
      },
      "source": [
        "\n",
        "#flood\n",
        "df_flood = pd.read_csv('flood.csv')\n",
        "df_flood.fillna(0, inplace=True)\n",
        "df_flood['target'] = 'flood'\n",
        "cleandata(df_flood)\n",
        "df_flood_total=pd.DataFrame()\n",
        "# for i in range(4000):\n",
        "#     df_flood_total=df_flood_total.append(df_flood.head(500), ignore_index=True)\n",
        "# print(\"Shape of aumented Flood: \" + str(df_flood_total.shape))\n",
        "trainflood = df_flood.head(1400000)\n",
        "testflood = df_flood.tail(600000)\n",
        "print(\"Train:\" + str(trainflood.shape) + \" Test: \"+ str(testflood.shape))\n",
        "#print(\"Shape of Flood: \" + str(df_flood.shape))"
      ],
      "execution_count": null,
      "outputs": [
        {
          "output_type": "stream",
          "text": [
            "Train:(613, 34) Test: (613, 34)\n"
          ],
          "name": "stdout"
        }
      ]
    },
    {
      "cell_type": "code",
      "metadata": {
        "id": "L_87Qzvow8Ap"
      },
      "source": [
        "#slowite\n",
        "df_slowite = pd.read_csv('slowite.csv')\n",
        "df_slowite.fillna(0, inplace=True)\n",
        "df_slowite['target'] = 'slowite'\n",
        "cleandata(df_slowite)\n",
        "# df_slowite_total=pd.DataFrame()\n",
        "# for i in range(250):\n",
        "#     df_slowite_total=df_slowite_total.append(df_slowite.head(8000), ignore_index=True)\n",
        "# #df_slowite_total=df_slowite_total.append(df_slowite.head(47000), ignore_index=True)\n",
        "# print(\"Shape of aumented SlowITe: \" + str(df_slowite_total.shape))\n",
        "trainslow = df_slowite.head(1400000)\n",
        "testslow = df_slowite.tail(600000)\n",
        "print(\"Train:\" + str(trainslow.shape) + \" Test: \"+ str(testslow.shape))\n",
        "#print(\"Shape of SlowITe: \" + str(df_slowite.shape))"
      ],
      "execution_count": null,
      "outputs": []
    },
    {
      "cell_type": "code",
      "metadata": {
        "id": "GRzdnElaxDvc"
      },
      "source": [
        "\n",
        "#malaria\n",
        "df_malaria = pd.read_csv('malaria.csv')\n",
        "df_malaria.fillna(0, inplace=True)\n",
        "df_malaria['target'] = 'dos'\n",
        "cleandata(df_malaria)\n",
        "# df_malaria_total=pd.DataFrame()\n",
        "# for i in range(15):\n",
        "#     df_malaria_total=df_malaria_total.append(df_malaria.head(130000), ignore_index=True)\n",
        "# df_malaria_total=df_malaria_total.append(df_malaria.head(50000), ignore_index=True)\n",
        "# print(\"Shape of aumented DoS: \" + str(df_malaria_total.shape))\n",
        "trainmalaria = df_malaria.head(1400000)\n",
        "testmalaria = df_malaria.tail(600000)\n",
        "print(\"Train:\" + str(trainmalaria.shape) + \" Test: \"+ str(testmalaria.shape))\n",
        "#print(\"Shape of DoS: \" + str(df_malaria.shape))"
      ],
      "execution_count": null,
      "outputs": []
    },
    {
      "cell_type": "code",
      "metadata": {
        "colab": {
          "base_uri": "https://localhost:8080/"
        },
        "id": "fCxoBylCxGk9",
        "outputId": "14187a1d-d492-4dc1-d265-9ad2e3fccb4b"
      },
      "source": [
        "#malformed\n",
        "df_malformed = pd.read_csv('malformed.csv')\n",
        "df_malformed.fillna(0, inplace=True)\n",
        "df_malformed['target'] = 'malformed'\n",
        "cleandata(df_malformed)\n",
        "# df_malformed_total=pd.DataFrame()\n",
        "# for i in range(200):\n",
        "#     df_malformed_total=df_malformed_total.append(df_malformed.head(10000), ignore_index=True)\n",
        "# print(\"Shape of aumented malformed: \" + str(df_malformed_total.shape))\n",
        "trainmalformed = df_malformed.head(1400000)\n",
        "testmalformed = df_malformed.tail(600000)\n",
        "print(\"Train:\" + str(trainmalformed.shape) + \" Test: \"+ str(testmalformed.shape))\n",
        "#print(\"Shape of malformed: \" + str(df_malformed.shape))\n"
      ],
      "execution_count": null,
      "outputs": [
        {
          "output_type": "stream",
          "text": [
            "Train:(10924, 34) Test: (10924, 34)\n"
          ],
          "name": "stdout"
        }
      ]
    },
    {
      "cell_type": "code",
      "metadata": {
        "id": "E-2xoCYuxJwC"
      },
      "source": [
        "#bruteforce\n",
        "df_bruteforce = pd.read_csv('bruteforce.csv')\n",
        "df_bruteforce.fillna(0, inplace=True)\n",
        "df_bruteforce['target'] = 'bruteforce'\n",
        "cleandata(df_bruteforce)\n",
        "# df_bruteforce_total=pd.DataFrame()\n",
        "# for i in range(142):\n",
        "#     df_bruteforce_total=df_bruteforce_total.append(df_bruteforce.head(14000), ignore_index=True)\n",
        "# df_bruteforce_total=df_bruteforce_total.append(df_bruteforce.head(12000), ignore_index=True)\n",
        "# print(\"Shape of aumented bruteforce: \" + str(df_bruteforce_total.shape))\n",
        "trainbrute = df_bruteforce.head(1400000)\n",
        "testbrute = df_bruteforce.tail(600000)\n",
        "print(\"Train:\" + str(trainbrute.shape) + \" Test: \"+ str(testbrute.shape))\n",
        "#print(\"Shape of bruteforce:\" + str(df_bruteforce.shape))"
      ],
      "execution_count": null,
      "outputs": []
    },
    {
      "cell_type": "code",
      "metadata": {
        "id": "V7pxum3YxoPB"
      },
      "source": [
        "\n",
        "#70% code\n",
        "df_train = pd.concat([trainleg,trainmalaria,trainmalformed,trainslow,trainflood,trainbrute])\n",
        "df_train = shuffle(df_train,random_state=seed)\n",
        "print(df_train)\n",
        "df_train.to_csv (r'./train70_augmented_new.csv', index = False, header=True)\n",
        "\n",
        "df_test=pd.concat([testleg, testbrute,testflood,testmalaria,testmalformed,testslow])\n",
        "df_test = shuffle(df_test,random_state=seed)\n",
        "print(df_test)\n",
        "df_test.to_csv (r'./test30_augmented_new.csv', index = False, header=True)"
      ],
      "execution_count": null,
      "outputs": []
    }
  ]
}